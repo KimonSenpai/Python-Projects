{
 "cells": [
  {
   "cell_type": "markdown",
   "metadata": {},
   "source": [
    "# VG"
   ]
  },
  {
   "cell_type": "markdown",
   "metadata": {},
   "source": [
    "## Задача 4 (1 и 2)"
   ]
  },
  {
   "cell_type": "markdown",
   "metadata": {},
   "source": [
    "### Оригонал:"
   ]
  },
  {
   "cell_type": "code",
   "execution_count": 1,
   "metadata": {
    "collapsed": true
   },
   "outputs": [],
   "source": [
    "def main(a, b): #Должна выводить сумму четных чисел между a и b включительно\n",
    "    s = 0\n",
    "    for i in range(a, b, 2):\n",
    "        s += i\n",
    "    return s"
   ]
  },
  {
   "cell_type": "markdown",
   "metadata": {},
   "source": [
    "У программы 2 проблеммы:\n",
    "* первая проблемма в том, что она в любом случае начинает суммировать с $a$. Значение этой переменной может быть нечетным и тогда мы получим сумму нечетных чисел;\n",
    "* вторая проблемма в том, что $b$ не включается в сумму. Это приведет к ошибке, если она четная."
   ]
  },
  {
   "cell_type": "markdown",
   "metadata": {},
   "source": [
    "### Ожидаемая реализация:"
   ]
  },
  {
   "cell_type": "code",
   "execution_count": 2,
   "metadata": {
    "collapsed": true
   },
   "outputs": [],
   "source": [
    "def correct_main(a, b): #Должна выводить сумму четных чисел между a и b включительно\n",
    "    s = 0\n",
    "    if a % 2 == 1: a += 1\n",
    "    for i in range(a, b + 1, 2):\n",
    "        s += i\n",
    "    return s"
   ]
  },
  {
   "cell_type": "markdown",
   "metadata": {},
   "source": [
    "### Ввод с верным ответом:"
   ]
  },
  {
   "cell_type": "code",
   "execution_count": 3,
   "metadata": {},
   "outputs": [
    {
     "name": "stdout",
     "output_type": "stream",
     "text": [
      "Оригинальный вывод: 10\n",
      "Корректный вывод: 10\n"
     ]
    }
   ],
   "source": [
    "a = 4\n",
    "b = 7\n",
    "print(\"Оригинальный вывод:\", main(a, b))\n",
    "print(\"Корректный вывод:\", correct_main(a, b))"
   ]
  },
  {
   "cell_type": "markdown",
   "metadata": {},
   "source": [
    "### Ввод с неверным ответом:"
   ]
  },
  {
   "cell_type": "code",
   "execution_count": 4,
   "metadata": {},
   "outputs": [
    {
     "name": "stdout",
     "output_type": "stream",
     "text": [
      "Оригинальный вывод: 8\n",
      "Корректный вывод: 10\n"
     ]
    }
   ],
   "source": [
    "a = 3\n",
    "b = 7\n",
    "print(\"Оригинальный вывод:\", main(a, b))\n",
    "print(\"Корректный вывод:\", correct_main(a, b))"
   ]
  },
  {
   "cell_type": "code",
   "execution_count": 5,
   "metadata": {},
   "outputs": [
    {
     "name": "stdout",
     "output_type": "stream",
     "text": [
      "Оригинальный вывод: 10\n",
      "Корректный вывод: 18\n"
     ]
    }
   ],
   "source": [
    "a = 4\n",
    "b = 8\n",
    "print(\"Оригинальный вывод:\", main(a, b))\n",
    "print(\"Корректный вывод:\", correct_main(a, b))"
   ]
  },
  {
   "cell_type": "markdown",
   "metadata": {},
   "source": [
    "## Тесты"
   ]
  },
  {
   "cell_type": "markdown",
   "metadata": {},
   "source": [
    "### C псевдокодом"
   ]
  },
  {
   "cell_type": "markdown",
   "metadata": {},
   "source": [
    "* От начального значения\n",
    "* Несложно посчитать что цикл остановится когда $a = 7$\n",
    "* При этом последние изменение $b$ в цикле происходило при $a = 16$. Тогда по окончанию цикла $b = 19$\n",
    "* Последнее действие уменьшает $b$ на $5$. В итоге получаем $b = 14$\n",
    "\n",
    "__Ответ:__ c. b = 14"
   ]
  },
  {
   "cell_type": "markdown",
   "metadata": {},
   "source": [
    "### На системы счисления"
   ]
  },
  {
   "cell_type": "markdown",
   "metadata": {},
   "source": [
    "1. $11345_8 + 771_8 = 12336_8 = 5342 < 14ED_{16} = 5357$ --- верно\n",
    "2. $1000011110_2 + 1142_8 = 542 + 610 = 1152 = 480_{16} = 1152$ --- верно\n",
    "3. $3742 = 111010011110_2 = 3142$ --- верно\n",
    "\n",
    "__Ответ:__ b. Все"
   ]
  },
  {
   "cell_type": "markdown",
   "metadata": {},
   "source": [
    "### Про слова"
   ]
  },
  {
   "cell_type": "markdown",
   "metadata": {},
   "source": [
    "Из комбинаторики: $2\\cdot 2\\cdot 3\\cdot 4\\cdot 4 = 192$\n",
    "\n",
    "__Ответ:__ d. 192"
   ]
  }
 ],
 "metadata": {
  "kernelspec": {
   "display_name": "Python 3",
   "language": "python",
   "name": "python3"
  },
  "language_info": {
   "codemirror_mode": {
    "name": "ipython",
    "version": 3
   },
   "file_extension": ".py",
   "mimetype": "text/x-python",
   "name": "python",
   "nbconvert_exporter": "python",
   "pygments_lexer": "ipython3",
   "version": "3.6.1"
  }
 },
 "nbformat": 4,
 "nbformat_minor": 2
}
