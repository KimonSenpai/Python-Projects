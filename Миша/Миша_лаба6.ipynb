{
 "cells": [
  {
   "cell_type": "markdown",
   "metadata": {},
   "source": [
    "# Лабораторная работа №6"
   ]
  },
  {
   "cell_type": "markdown",
   "metadata": {},
   "source": [
    "$f = \\int\\limits^5_2 m da$\n",
    "$$F = \\sum_{i=0}^\\infty \\frac{1}{i^2}$$"
   ]
  },
  {
   "cell_type": "code",
   "execution_count": null,
   "metadata": {
    "collapsed": true
   },
   "outputs": [],
   "source": [
    "print('Лабораторная работа № 6','\\n')\n",
    "from sys import argv\n",
    "\n",
    "def AVRPos(mas):\n",
    "    s = 0\n",
    "    d = 0\n",
    "    for v in mas:\n",
    "        if v < 0:\n",
    "            break\n",
    "        s += v\n",
    "        d += 1\n",
    "    if d > 0:\n",
    "        s /= d\n",
    "    return s\n",
    "\n",
    "file = open(argv[1], 'r')\n",
    "n = int(file.readline())\n",
    "m = int(file.readline())\n",
    "A = [[]]*m\n",
    "for i in range(n):\n",
    "    s = file.readline().split(' ')\n",
    "    for j in range(m):\n",
    "        A[j] += [float(s[j])]\n",
    "file.close()\n",
    "\n",
    "for i in range(1, m, 2):\n",
    "    flag = True\n",
    "    for v in A[i]:\n",
    "        if v > 0: flag = False\n",
    "    if flag:\n",
    "        t = A[i]\n",
    "        A[i] = A[i+1]\n",
    "        A[i+1] = t\n",
    "    else:\n",
    "        print(\"Среднее для \", i-1, \"-го столбца: \", AVRPos(A[i-1]), sep = '')\n",
    "    \n",
    "print(\"Новая матрица:\")\n",
    "for i in range(n):\n",
    "    for j in range(m):\n",
    "        print(A[j][i], end = ' ')\n",
    "    print('')"
   ]
  },
  {
   "cell_type": "code",
   "execution_count": 11,
   "metadata": {},
   "outputs": [
    {
     "name": "stdout",
     "output_type": "stream",
     "text": [
      "Hello^b world\n"
     ]
    }
   ],
   "source": [
    "print(\"Hello world\")"
   ]
  },
  {
   "cell_type": "code",
   "execution_count": 13,
   "metadata": {},
   "outputs": [
    {
     "name": "stdout",
     "output_type": "stream",
     "text": [
      "Hi!\n",
      "Goodbye!\n"
     ]
    }
   ],
   "source": [
    "import MyLib as ML\n",
    "ML.Hi()\n",
    "ML.GoodBye()"
   ]
  },
  {
   "cell_type": "code",
   "execution_count": 20,
   "metadata": {},
   "outputs": [
    {
     "name": "stdout",
     "output_type": "stream",
     "text": [
      "Таблица\n",
      "\n",
      " \t4\t5\t6\t7\t\n",
      "1\t4\t5\t6\t7\t\n",
      "2\t8\t10\t12\t14\t\n",
      "3\t12\t15\t18\t21\t\n",
      "4\t16\t20\t24\t28\t\n",
      "5\t20\t25\t30\t35\t\n",
      "\n"
     ]
    }
   ],
   "source": [
    "def JAMBO(a,b,c,d):\n",
    "    if a > 10 or b > 10 or c > 10 or d > 10 or a > b or c > d:\n",
    "        return \"\"\n",
    "    s = \"\\t\"\n",
    "    for i in range(c,d+1):\n",
    "        s += str(i) + '\\t'\n",
    "    s += '\\n'\n",
    "    for i in range(a,b+1):#i это строка\n",
    "        s += str(i) + '\\t'\n",
    "        for j in range(c, d+1):#j это солбец\n",
    "            s += str(i*j) + '\\t'\n",
    "        s += '\\n'\n",
    "    return s\n",
    "        \n",
    "print(\"Таблица\\n\\n\",JAMBO(1,5,4,7) , sep = ' ')\n",
    "\n"
   ]
  }
 ],
 "metadata": {
  "kernelspec": {
   "display_name": "Python 3",
   "language": "python",
   "name": "python3"
  },
  "language_info": {
   "codemirror_mode": {
    "name": "ipython",
    "version": 3
   },
   "file_extension": ".py",
   "mimetype": "text/x-python",
   "name": "python",
   "nbconvert_exporter": "python",
   "pygments_lexer": "ipython3",
   "version": "3.6.1"
  }
 },
 "nbformat": 4,
 "nbformat_minor": 2
}
